{
 "cells": [
  {
   "cell_type": "markdown",
   "id": "ea4b1f07",
   "metadata": {},
   "source": [
    "<table align=\"center\" width=100%>\n",
    "    <tr>\n",
    "            <div align=\"center\">\n",
    "                <font color=\"#21618C\" size=6px>\n",
    "                    <b> PYTHON PROJECT REPORT\n",
    "                    </b>\n",
    "                </font>\n",
    "    </tr>\n",
    "</table"
   ]
  },
  {
   "cell_type": "markdown",
   "id": "f51490bf",
   "metadata": {},
   "source": [
    "## Table of Content\n",
    "\n",
    "1. **[TOPIC](#topic)**\n",
    "2. **[OBJECTIVE](#objective)**\n",
    "3. **[TECHNOLOGIES USED](#tech)**\n",
    "4. **[APPROACH](#approach)**\n",
    "5. **[DATA ANALYSIS STEPS](#steps)**    \n",
    "6. **[DATA DESCRIPTION](#description)** \n",
    "7. **[FEATURES OF THE DATASET](#features)** \n",
    "8. **[DATA CLEANING AND PRE-PROCESSING](#cleaning)**\n",
    "9. **[ANALYSIS](#analysis)**\n",
    "10. **[CONCLUSION](#conclusion)**\n",
    "11. **[SKILLS DEVELOPED](#learnings)**"
   ]
  },
  {
   "cell_type": "markdown",
   "id": "981e69c2",
   "metadata": {},
   "source": [
    "<a id='topic'></a>\n",
    "# TOPIC\n",
    "\n",
    "Analysing Dataset of an Asset Management Company(AMC).    <br>\n",
    "Data analytics in asset management helps in providing decision-makers with unprecented insights into their operations and also providing analysis helpful in getting into new markts and opportunities for growth.   <br>\n",
    "For this analysts sift through vast amounts of data to identify trends and patterns that can be used to maximize the value of assets."
   ]
  },
  {
   "cell_type": "markdown",
   "id": "53ec6b5b",
   "metadata": {},
   "source": [
    "<a id='objective'></a>\n",
    "# OBJECTIVE \n",
    "> Objective Statement\n",
    "\n",
    "Our objective was to identify the best countries and a suitable investment type for making the investment.   <br>\n",
    "The overall strategy is to invest where others are investing, implying that the best countries are the ones ‘where most investors are investing’"
   ]
  },
  {
   "cell_type": "markdown",
   "id": "1664ada0",
   "metadata": {},
   "source": [
    "From the above `objective` statement we can see that we have to anayze two things:     <br>\n",
    "1. the best countries \n",
    "2. investment strategy\n",
    "\n",
    "With this, we are also given the `strategy` which the AMC follows i.e.'to invest where others are investing'."
   ]
  },
  {
   "cell_type": "markdown",
   "id": "2fa4d437",
   "metadata": {},
   "source": [
    "<a id='tech'></a>\n",
    "# TECHNOLOGIES USED"
   ]
  },
  {
   "cell_type": "markdown",
   "id": "8353416c",
   "metadata": {},
   "source": [
    "**The technologies used in the project include:**\n",
    "#### `web development tools`:\n",
    "- ide (jupyter notebook)\n",
    "- python package manager - pip\n",
    "\n",
    "#### `data analysis tools`:\n",
    "- numpy\n",
    "- pandas\n",
    "\n",
    "#### `data visualization tools`:\n",
    "- seaborn\n",
    "- matplotlib"
   ]
  },
  {
   "cell_type": "markdown",
   "id": "cff75232",
   "metadata": {},
   "source": [
    "<a id='approach'></a>\n",
    "# APPROACH"
   ]
  },
  {
   "cell_type": "markdown",
   "id": "38c35d48",
   "metadata": {},
   "source": [
    "Our approach was to first understand the `objective` of our analysis and the problem statement thoroughly, before analysing the data. After having our objective in sight, we could now go ahead and deep dive into the `data` and understand all its aspects and be familiar with it. Had we found the data incomplete or relevent information missing we might have had to `collect` more data. But, in this particular case we had the data we required so our next step was `Data Cleaning` and preprocessing. Then, when our data was ready to `Analyse` we used various statistical methods,EDA and other techniques to do so.   <br>\n",
    "\n",
    "After we had conducted our analysis in line with the objective, we summarized the findings from the analysis and drew conclusions. Based on these conclusions, we made recommendations for actions to take or decisions to make.    <br>\n",
    "\n",
    "Now, at this stage we visualized the data to communicate the insights from our analysis. This step is very helpful in making the findings more accessible and understandable to non-technical stakeholders."
   ]
  },
  {
   "cell_type": "markdown",
   "id": "b317a1cd",
   "metadata": {},
   "source": [
    "<a id = 'steps'></a>\n",
    "# STEPS OF DATA ANALYSIS"
   ]
  },
  {
   "cell_type": "markdown",
   "id": "9de63803",
   "metadata": {},
   "source": [
    "**Usual steps of of any data analysis process are:**"
   ]
  },
  {
   "cell_type": "markdown",
   "id": "e40c9719",
   "metadata": {},
   "source": [
    "1. DATA REQUIREMENT GATHERING\n",
    "2. DATA COLLECTION\n",
    "3. DATA CLEANING\n",
    "4. DATA ANALYSIS \n",
    "5. DATA INTERPRETATION\n",
    "6. DATA VISUALIZATION"
   ]
  },
  {
   "cell_type": "markdown",
   "id": "b94ed488",
   "metadata": {},
   "source": [
    "<a id='description'></a>\n",
    "# DATA DESCRIPTION"
   ]
  },
  {
   "cell_type": "markdown",
   "id": "8af44612",
   "metadata": {},
   "source": [
    "### Asset Management Company Dataset"
   ]
  },
  {
   "cell_type": "markdown",
   "id": "0d77e71b",
   "metadata": {},
   "source": [
    "We had to analyse the dataset of an `Asset Management Dataset(AMC)` taken from `Crunchbase.com`. Crunchbase is a company providing business information about private and public companies. Their content includes investment and funding information, founding members and individuals in leadership positions, mergers and acquisitions, news, and industry trends."
   ]
  },
  {
   "cell_type": "markdown",
   "id": "2aa3ff3a",
   "metadata": {},
   "source": [
    "An asset management company (AMC) is a firm that `invests pooled funds from clients`, putting the capital to work through different investments. Because they have a larger pool of resources than the individual investor could access on their own, AMCs provide investors with more diversification and investing options. Buying for so many clients allows AMCs to practice economies of scale, often getting a price discount on their purchases."
   ]
  },
  {
   "cell_type": "markdown",
   "id": "b04bc568",
   "metadata": {},
   "source": [
    "Before trying to conduct any kind of analysis or infact even to load the datasets we need to import certain libraries and modules. So, we do that before anything else is done."
   ]
  },
  {
   "cell_type": "code",
   "execution_count": 1,
   "id": "ff65ad1b",
   "metadata": {},
   "outputs": [],
   "source": [
    "# import all the required libraries\n",
    "import numpy as np\n",
    "import pandas as pd\n",
    "import matplotlib.pyplot as plt\n",
    "import seaborn as sns\n",
    "import warnings \n",
    "warnings.filterwarnings(action=\"ignore\")"
   ]
  },
  {
   "cell_type": "markdown",
   "id": "1b5db4a6",
   "metadata": {},
   "source": [
    "<a id='features'></a>\n",
    "# FEATURES OF THE DATASET"
   ]
  },
  {
   "cell_type": "markdown",
   "id": "771025ed",
   "metadata": {},
   "source": [
    "### Reading the Rounds2, companies.txt files."
   ]
  },
  {
   "cell_type": "code",
   "execution_count": 2,
   "id": "59bbe76f",
   "metadata": {},
   "outputs": [],
   "source": [
    "#loading companies dataset\n",
    "companies=pd.read_csv(r\"C:\\Users\\91978\\OneDrive\\Desktop\\mini project\\Python\\Project 2\\Dataset\\companies (1).txt\",\"\\t\")"
   ]
  },
  {
   "cell_type": "markdown",
   "id": "76175454",
   "metadata": {},
   "source": [
    "**Explanation** - Here we read a TSV (Tab Separated File) and load it into a Pandas DataFrame.\n",
    "- `\"\\t\"`: This parameter specifies the `delimiter` used in the TSV file. Here it is a `tab` character."
   ]
  },
  {
   "cell_type": "code",
   "execution_count": 3,
   "id": "086eaec4",
   "metadata": {
    "scrolled": true
   },
   "outputs": [
    {
     "data": {
      "text/html": [
       "<div>\n",
       "<style scoped>\n",
       "    .dataframe tbody tr th:only-of-type {\n",
       "        vertical-align: middle;\n",
       "    }\n",
       "\n",
       "    .dataframe tbody tr th {\n",
       "        vertical-align: top;\n",
       "    }\n",
       "\n",
       "    .dataframe thead th {\n",
       "        text-align: right;\n",
       "    }\n",
       "</style>\n",
       "<table border=\"1\" class=\"dataframe\">\n",
       "  <thead>\n",
       "    <tr style=\"text-align: right;\">\n",
       "      <th></th>\n",
       "      <th>permalink</th>\n",
       "      <th>name</th>\n",
       "      <th>homepage_url</th>\n",
       "      <th>category_list</th>\n",
       "      <th>status</th>\n",
       "      <th>country_code</th>\n",
       "      <th>state_code</th>\n",
       "      <th>region</th>\n",
       "      <th>city</th>\n",
       "      <th>founded_at</th>\n",
       "    </tr>\n",
       "  </thead>\n",
       "  <tbody>\n",
       "    <tr>\n",
       "      <th>0</th>\n",
       "      <td>/Organization/-Fame</td>\n",
       "      <td>#fame</td>\n",
       "      <td>http://livfame.com</td>\n",
       "      <td>Media</td>\n",
       "      <td>operating</td>\n",
       "      <td>IND</td>\n",
       "      <td>16</td>\n",
       "      <td>Mumbai</td>\n",
       "      <td>Mumbai</td>\n",
       "      <td>NaN</td>\n",
       "    </tr>\n",
       "    <tr>\n",
       "      <th>1</th>\n",
       "      <td>/Organization/-Qounter</td>\n",
       "      <td>:Qounter</td>\n",
       "      <td>http://www.qounter.com</td>\n",
       "      <td>Application Platforms|Real Time|Social Network...</td>\n",
       "      <td>operating</td>\n",
       "      <td>USA</td>\n",
       "      <td>DE</td>\n",
       "      <td>DE - Other</td>\n",
       "      <td>Delaware City</td>\n",
       "      <td>04-09-2014</td>\n",
       "    </tr>\n",
       "    <tr>\n",
       "      <th>2</th>\n",
       "      <td>/Organization/-The-One-Of-Them-Inc-</td>\n",
       "      <td>(THE) ONE of THEM,Inc.</td>\n",
       "      <td>http://oneofthem.jp</td>\n",
       "      <td>Apps|Games|Mobile</td>\n",
       "      <td>operating</td>\n",
       "      <td>NaN</td>\n",
       "      <td>NaN</td>\n",
       "      <td>NaN</td>\n",
       "      <td>NaN</td>\n",
       "      <td>NaN</td>\n",
       "    </tr>\n",
       "    <tr>\n",
       "      <th>3</th>\n",
       "      <td>/Organization/0-6-Com</td>\n",
       "      <td>0-6.com</td>\n",
       "      <td>http://www.0-6.com</td>\n",
       "      <td>Curated Web</td>\n",
       "      <td>operating</td>\n",
       "      <td>CHN</td>\n",
       "      <td>22</td>\n",
       "      <td>Beijing</td>\n",
       "      <td>Beijing</td>\n",
       "      <td>01-01-2007</td>\n",
       "    </tr>\n",
       "    <tr>\n",
       "      <th>4</th>\n",
       "      <td>/Organization/004-Technologies</td>\n",
       "      <td>004 Technologies</td>\n",
       "      <td>http://004gmbh.de/en/004-interact</td>\n",
       "      <td>Software</td>\n",
       "      <td>operating</td>\n",
       "      <td>USA</td>\n",
       "      <td>IL</td>\n",
       "      <td>Springfield, Illinois</td>\n",
       "      <td>Champaign</td>\n",
       "      <td>01-01-2010</td>\n",
       "    </tr>\n",
       "  </tbody>\n",
       "</table>\n",
       "</div>"
      ],
      "text/plain": [
       "                             permalink                    name  \\\n",
       "0                  /Organization/-Fame                   #fame   \n",
       "1               /Organization/-Qounter                :Qounter   \n",
       "2  /Organization/-The-One-Of-Them-Inc-  (THE) ONE of THEM,Inc.   \n",
       "3                /Organization/0-6-Com                 0-6.com   \n",
       "4       /Organization/004-Technologies        004 Technologies   \n",
       "\n",
       "                        homepage_url  \\\n",
       "0                 http://livfame.com   \n",
       "1             http://www.qounter.com   \n",
       "2                http://oneofthem.jp   \n",
       "3                 http://www.0-6.com   \n",
       "4  http://004gmbh.de/en/004-interact   \n",
       "\n",
       "                                       category_list     status country_code  \\\n",
       "0                                              Media  operating          IND   \n",
       "1  Application Platforms|Real Time|Social Network...  operating          USA   \n",
       "2                                  Apps|Games|Mobile  operating          NaN   \n",
       "3                                        Curated Web  operating          CHN   \n",
       "4                                           Software  operating          USA   \n",
       "\n",
       "  state_code                 region           city  founded_at  \n",
       "0         16                 Mumbai         Mumbai         NaN  \n",
       "1         DE             DE - Other  Delaware City  04-09-2014  \n",
       "2        NaN                    NaN            NaN         NaN  \n",
       "3         22                Beijing        Beijing  01-01-2007  \n",
       "4         IL  Springfield, Illinois      Champaign  01-01-2010  "
      ]
     },
     "execution_count": 3,
     "metadata": {},
     "output_type": "execute_result"
    }
   ],
   "source": [
    "#reading the first five rows\n",
    "companies.head()"
   ]
  },
  {
   "cell_type": "code",
   "execution_count": 4,
   "id": "dd2ec442",
   "metadata": {
    "scrolled": false
   },
   "outputs": [
    {
     "name": "stdout",
     "output_type": "stream",
     "text": [
      "<class 'pandas.core.frame.DataFrame'>\n",
      "RangeIndex: 66368 entries, 0 to 66367\n",
      "Data columns (total 10 columns):\n",
      " #   Column         Non-Null Count  Dtype \n",
      "---  ------         --------------  ----- \n",
      " 0   permalink      66368 non-null  object\n",
      " 1   name           66367 non-null  object\n",
      " 2   homepage_url   61310 non-null  object\n",
      " 3   category_list  63220 non-null  object\n",
      " 4   status         66368 non-null  object\n",
      " 5   country_code   59410 non-null  object\n",
      " 6   state_code     57821 non-null  object\n",
      " 7   region         58338 non-null  object\n",
      " 8   city           58340 non-null  object\n",
      " 9   founded_at     51147 non-null  object\n",
      "dtypes: object(10)\n",
      "memory usage: 5.1+ MB\n"
     ]
    }
   ],
   "source": [
    "# reading the informaton about the companies dataset\n",
    "companies.info()"
   ]
  },
  {
   "cell_type": "markdown",
   "id": "9b1dc089",
   "metadata": {},
   "source": [
    "**`.info()`** - **concise summary** of a DataFrame. Includes information like:\n",
    "* The `number of rows and columns` in the DataFrame.\n",
    "* The `data type` of each column.\n",
    "* The number of `non-null values` in each column.\n",
    "* The `number of columns in each data type`.\n",
    "* The amount of `memory used` by the DataFrame.\n",
    "This method is useful for quickly understanding the structure and contents of a DataFrame, especially when working with large datasets. Understanding the data types and the number of non-null values, helps in identifying any missing or inconsistent data we have, and decide how to handle them.         <br>\n",
    "\n",
    "Overall, the .info() method is a powerful tool for data exploration and data cleaning in Pandas. "
   ]
  },
  {
   "cell_type": "markdown",
   "id": "9cfbda3f",
   "metadata": {},
   "source": [
    "> **Reading round2 file**"
   ]
  },
  {
   "cell_type": "markdown",
   "id": "dcc8e688",
   "metadata": {},
   "source": [
    "**Approach:** `Encoding` means using a specific code for the letters, symbols, and numbers. Numerous encoding standards are used for encoding a Unicode character. `UTF-8 is the default`.Our file is encoded in a different standard so we try to find the encoding with the help of 'chardet' package.   <br>\n",
    "By **default**, the read_csv() method uses **None** as the **encoding** parameter value. \n",
    "The process of converting human-readable data into a specified format for secured data transmission is known as `encoding`. "
   ]
  },
  {
   "cell_type": "code",
   "execution_count": 53,
   "id": "13390ee6",
   "metadata": {},
   "outputs": [
    {
     "name": "stdout",
     "output_type": "stream",
     "text": [
      "Requirement already satisfied: chardet in c:\\users\\91978\\anaconda3\\lib\\site-packages (4.0.0)\n",
      "{'encoding': 'ISO-8859-1', 'confidence': 0.73, 'language': ''}\n"
     ]
    }
   ],
   "source": [
    "#install chardet package\n",
    "!pip install chardet\n",
    "\n",
    "# import the chardet library\n",
    "import chardet \n",
    "\n",
    "#read first ten thousand bytes to figure out the encoding type\n",
    "with open(r\"C:\\Users\\91978\\OneDrive\\Desktop\\mini project\\Python\\Project 2\\Dataset\\rounds2 (1).csv\", 'rb') as data:\n",
    "    result = chardet.detect(data.read(10000))\n",
    "\n",
    "print(result)"
   ]
  },
  {
   "cell_type": "markdown",
   "id": "b09667bf",
   "metadata": {},
   "source": [
    "### how to read the output\n",
    "\n",
    "`'encoding'`: Detected character encoding of the text.\n",
    "`'confidence'`: This is the confidence level of the detection, represented as a float between 0 and 1. The value indicates the probability that the detected encoding is correct.              <br>\n",
    "`'language'`: This is the language of the text, if detected. The value is a string representing the detected language, such as 'en' for English, 'fr' for French, etc. If the language cannot be detected, the value of this key is an empty string ('')."
   ]
  },
  {
   "cell_type": "markdown",
   "id": "396953ec",
   "metadata": {},
   "source": [
    "**Explanation**\n",
    "\n",
    "- `!pip install chardet` - installs the chardet package. The exclamation mark **!** is used to run shell commands within the Jupyter Notebook environment. \n",
    "- `import the chardet library` into the Python environment.\n",
    "- `open()` - Is used to open the CSV file located at the specified path in binary `mode` ('rb'). The opened file is assigned `data` variable.             <br>\n",
    "\n",
    "Here, we open a CSV file in binary mode ('rb') to read the first 10000 bytes of the file. This allows the chardet library to analyze the raw byte data and determine the character encoding used in the file.\n",
    "- `read()` - Used to read the first 10000 bytes of the file, and the `detect() method` of the chardet library is used to detect the character encoding used in the file.              <br>\n",
    "\n",
    "- Detected encoding type is assigned `result` variable.     \n",
    "- `print()` - prints the detected encoding type to the console.   "
   ]
  },
  {
   "cell_type": "code",
   "execution_count": 5,
   "id": "a764a208",
   "metadata": {},
   "outputs": [],
   "source": [
    "#loading round2 dataset\n",
    "round2=pd.read_csv(r\"C:\\Users\\91978\\OneDrive\\Desktop\\mini project\\Python\\Project 2\\Dataset\\rounds2 (1).csv\", encoding='ISO-8859-1')"
   ]
  },
  {
   "cell_type": "code",
   "execution_count": 6,
   "id": "569e1310",
   "metadata": {
    "scrolled": true
   },
   "outputs": [
    {
     "data": {
      "text/html": [
       "<div>\n",
       "<style scoped>\n",
       "    .dataframe tbody tr th:only-of-type {\n",
       "        vertical-align: middle;\n",
       "    }\n",
       "\n",
       "    .dataframe tbody tr th {\n",
       "        vertical-align: top;\n",
       "    }\n",
       "\n",
       "    .dataframe thead th {\n",
       "        text-align: right;\n",
       "    }\n",
       "</style>\n",
       "<table border=\"1\" class=\"dataframe\">\n",
       "  <thead>\n",
       "    <tr style=\"text-align: right;\">\n",
       "      <th></th>\n",
       "      <th>company_permalink</th>\n",
       "      <th>funding_round_permalink</th>\n",
       "      <th>funding_round_type</th>\n",
       "      <th>funding_round_code</th>\n",
       "      <th>funded_at</th>\n",
       "      <th>raised_amount_usd</th>\n",
       "    </tr>\n",
       "  </thead>\n",
       "  <tbody>\n",
       "    <tr>\n",
       "      <th>0</th>\n",
       "      <td>/organization/-fame</td>\n",
       "      <td>/funding-round/9a01d05418af9f794eebff7ace91f638</td>\n",
       "      <td>venture</td>\n",
       "      <td>B</td>\n",
       "      <td>05-01-2015</td>\n",
       "      <td>10000000.0</td>\n",
       "    </tr>\n",
       "    <tr>\n",
       "      <th>1</th>\n",
       "      <td>/ORGANIZATION/-QOUNTER</td>\n",
       "      <td>/funding-round/22dacff496eb7acb2b901dec1dfe5633</td>\n",
       "      <td>venture</td>\n",
       "      <td>A</td>\n",
       "      <td>14-10-2014</td>\n",
       "      <td>NaN</td>\n",
       "    </tr>\n",
       "    <tr>\n",
       "      <th>2</th>\n",
       "      <td>/organization/-qounter</td>\n",
       "      <td>/funding-round/b44fbb94153f6cdef13083530bb48030</td>\n",
       "      <td>seed</td>\n",
       "      <td>NaN</td>\n",
       "      <td>01-03-2014</td>\n",
       "      <td>700000.0</td>\n",
       "    </tr>\n",
       "  </tbody>\n",
       "</table>\n",
       "</div>"
      ],
      "text/plain": [
       "        company_permalink                          funding_round_permalink  \\\n",
       "0     /organization/-fame  /funding-round/9a01d05418af9f794eebff7ace91f638   \n",
       "1  /ORGANIZATION/-QOUNTER  /funding-round/22dacff496eb7acb2b901dec1dfe5633   \n",
       "2  /organization/-qounter  /funding-round/b44fbb94153f6cdef13083530bb48030   \n",
       "\n",
       "  funding_round_type funding_round_code   funded_at  raised_amount_usd  \n",
       "0            venture                  B  05-01-2015         10000000.0  \n",
       "1            venture                  A  14-10-2014                NaN  \n",
       "2               seed                NaN  01-03-2014           700000.0  "
      ]
     },
     "execution_count": 6,
     "metadata": {},
     "output_type": "execute_result"
    }
   ],
   "source": [
    "round2.head(3)"
   ]
  },
  {
   "cell_type": "code",
   "execution_count": 7,
   "id": "67077ed7",
   "metadata": {
    "scrolled": false
   },
   "outputs": [
    {
     "name": "stdout",
     "output_type": "stream",
     "text": [
      "<class 'pandas.core.frame.DataFrame'>\n",
      "RangeIndex: 114949 entries, 0 to 114948\n",
      "Data columns (total 6 columns):\n",
      " #   Column                   Non-Null Count   Dtype  \n",
      "---  ------                   --------------   -----  \n",
      " 0   company_permalink        114949 non-null  object \n",
      " 1   funding_round_permalink  114949 non-null  object \n",
      " 2   funding_round_type       114949 non-null  object \n",
      " 3   funding_round_code       31140 non-null   object \n",
      " 4   funded_at                114949 non-null  object \n",
      " 5   raised_amount_usd        94959 non-null   float64\n",
      "dtypes: float64(1), object(5)\n",
      "memory usage: 5.3+ MB\n"
     ]
    }
   ],
   "source": [
    "# reading the information about the round2 dataset\n",
    "round2.info()"
   ]
  },
  {
   "cell_type": "markdown",
   "id": "4310a6f7",
   "metadata": {},
   "source": [
    "### How many unique companies are present in rounds2?"
   ]
  },
  {
   "cell_type": "code",
   "execution_count": 8,
   "id": "83590186",
   "metadata": {},
   "outputs": [
    {
     "data": {
      "text/plain": [
       "90247"
      ]
     },
     "execution_count": 8,
     "metadata": {},
     "output_type": "execute_result"
    }
   ],
   "source": [
    "#extracting the number of unique companies in round2\n",
    "len(round2[\"company_permalink\"].unique())"
   ]
  },
  {
   "cell_type": "markdown",
   "id": "43b3d43f",
   "metadata": {},
   "source": [
    "**Inference** - We can see there are `90247 unique companies` in round2 dataset."
   ]
  },
  {
   "cell_type": "markdown",
   "id": "f468bfef",
   "metadata": {},
   "source": [
    "### How many unique companies are present in the companies file?"
   ]
  },
  {
   "cell_type": "code",
   "execution_count": 58,
   "id": "f359fcba",
   "metadata": {},
   "outputs": [
    {
     "data": {
      "text/plain": [
       "66368"
      ]
     },
     "execution_count": 58,
     "metadata": {},
     "output_type": "execute_result"
    }
   ],
   "source": [
    "#extracting the number of unique companies in companies datasets\n",
    "len(companies[\"permalink\"].unique())"
   ]
  },
  {
   "cell_type": "markdown",
   "id": "269c6e84",
   "metadata": {},
   "source": [
    "**Inference** - We can see there are `66368 unique companies` in companies dataset."
   ]
  },
  {
   "cell_type": "markdown",
   "id": "56e6e0b9",
   "metadata": {},
   "source": [
    "<a id='cleaning'></a>\n",
    "### DATA CLEANING AND PRE-PROCESSING"
   ]
  },
  {
   "cell_type": "markdown",
   "id": "4c1f7a24",
   "metadata": {},
   "source": [
    "### Convert companies[‘permalink’] and Round2[‘company_permalink’] columns to uppercase"
   ]
  },
  {
   "cell_type": "code",
   "execution_count": 11,
   "id": "5ffd00c6",
   "metadata": {},
   "outputs": [
    {
     "data": {
      "text/plain": [
       "0                                      /ORGANIZATION/-FAME\n",
       "1                                   /ORGANIZATION/-QOUNTER\n",
       "2                      /ORGANIZATION/-THE-ONE-OF-THEM-INC-\n",
       "3                                    /ORGANIZATION/0-6-COM\n",
       "4                           /ORGANIZATION/004-TECHNOLOGIES\n",
       "                               ...                        \n",
       "66363    /ORGANIZATION/ZZNODE-SCIENCE-AND-TECHNOLOGY-CO...\n",
       "66364                            /ORGANIZATION/ZZZZAPP-COM\n",
       "66365                                 /ORGANIZATION/ÃERON\n",
       "66366                               /ORGANIZATION/Ã”ASYS-2\n",
       "66367    /ORGANIZATION/Ä°NOVATIFF-REKLAM-VE-TANÄ±TÄ±M-H...\n",
       "Name: permalink, Length: 66368, dtype: object"
      ]
     },
     "execution_count": 11,
     "metadata": {},
     "output_type": "execute_result"
    }
   ],
   "source": [
    "# calling a lambda function to convert the column \"permalink\" into uppercase\n",
    "companies[\"permalink\"]=companies[\"permalink\"].apply(lambda x:x.upper())\n",
    "companies[\"permalink\"]"
   ]
  },
  {
   "cell_type": "code",
   "execution_count": 12,
   "id": "0e15767d",
   "metadata": {
    "scrolled": false
   },
   "outputs": [
    {
     "data": {
      "text/html": [
       "<div>\n",
       "<style scoped>\n",
       "    .dataframe tbody tr th:only-of-type {\n",
       "        vertical-align: middle;\n",
       "    }\n",
       "\n",
       "    .dataframe tbody tr th {\n",
       "        vertical-align: top;\n",
       "    }\n",
       "\n",
       "    .dataframe thead th {\n",
       "        text-align: right;\n",
       "    }\n",
       "</style>\n",
       "<table border=\"1\" class=\"dataframe\">\n",
       "  <thead>\n",
       "    <tr style=\"text-align: right;\">\n",
       "      <th></th>\n",
       "      <th>permalink</th>\n",
       "      <th>name</th>\n",
       "      <th>homepage_url</th>\n",
       "      <th>category_list</th>\n",
       "      <th>status</th>\n",
       "      <th>country_code</th>\n",
       "      <th>state_code</th>\n",
       "      <th>region</th>\n",
       "      <th>city</th>\n",
       "      <th>founded_at</th>\n",
       "    </tr>\n",
       "  </thead>\n",
       "  <tbody>\n",
       "    <tr>\n",
       "      <th>0</th>\n",
       "      <td>/ORGANIZATION/-FAME</td>\n",
       "      <td>#fame</td>\n",
       "      <td>http://livfame.com</td>\n",
       "      <td>Media</td>\n",
       "      <td>operating</td>\n",
       "      <td>IND</td>\n",
       "      <td>16</td>\n",
       "      <td>Mumbai</td>\n",
       "      <td>Mumbai</td>\n",
       "      <td>NaN</td>\n",
       "    </tr>\n",
       "    <tr>\n",
       "      <th>1</th>\n",
       "      <td>/ORGANIZATION/-QOUNTER</td>\n",
       "      <td>:Qounter</td>\n",
       "      <td>http://www.qounter.com</td>\n",
       "      <td>Application Platforms|Real Time|Social Network...</td>\n",
       "      <td>operating</td>\n",
       "      <td>USA</td>\n",
       "      <td>DE</td>\n",
       "      <td>DE - Other</td>\n",
       "      <td>Delaware City</td>\n",
       "      <td>04-09-2014</td>\n",
       "    </tr>\n",
       "    <tr>\n",
       "      <th>2</th>\n",
       "      <td>/ORGANIZATION/-THE-ONE-OF-THEM-INC-</td>\n",
       "      <td>(THE) ONE of THEM,Inc.</td>\n",
       "      <td>http://oneofthem.jp</td>\n",
       "      <td>Apps|Games|Mobile</td>\n",
       "      <td>operating</td>\n",
       "      <td>NaN</td>\n",
       "      <td>NaN</td>\n",
       "      <td>NaN</td>\n",
       "      <td>NaN</td>\n",
       "      <td>NaN</td>\n",
       "    </tr>\n",
       "  </tbody>\n",
       "</table>\n",
       "</div>"
      ],
      "text/plain": [
       "                             permalink                    name  \\\n",
       "0                  /ORGANIZATION/-FAME                   #fame   \n",
       "1               /ORGANIZATION/-QOUNTER                :Qounter   \n",
       "2  /ORGANIZATION/-THE-ONE-OF-THEM-INC-  (THE) ONE of THEM,Inc.   \n",
       "\n",
       "             homepage_url                                      category_list  \\\n",
       "0      http://livfame.com                                              Media   \n",
       "1  http://www.qounter.com  Application Platforms|Real Time|Social Network...   \n",
       "2     http://oneofthem.jp                                  Apps|Games|Mobile   \n",
       "\n",
       "      status country_code state_code      region           city  founded_at  \n",
       "0  operating          IND         16      Mumbai         Mumbai         NaN  \n",
       "1  operating          USA         DE  DE - Other  Delaware City  04-09-2014  \n",
       "2  operating          NaN        NaN         NaN            NaN         NaN  "
      ]
     },
     "execution_count": 12,
     "metadata": {},
     "output_type": "execute_result"
    }
   ],
   "source": [
    "companies.head(3) # reading the first 3 rows of companies data"
   ]
  },
  {
   "cell_type": "markdown",
   "id": "f5ed9e35",
   "metadata": {},
   "source": [
    "### Merge the two data frames so that all variables (columns) in the company's frame are added to the rounds2 data frame. Name the merged frame master_dataframe. How many observations are present in master_frame ?"
   ]
  },
  {
   "cell_type": "code",
   "execution_count": 14,
   "id": "51161b5f",
   "metadata": {
    "scrolled": true
   },
   "outputs": [
    {
     "data": {
      "text/html": [
       "<div>\n",
       "<style scoped>\n",
       "    .dataframe tbody tr th:only-of-type {\n",
       "        vertical-align: middle;\n",
       "    }\n",
       "\n",
       "    .dataframe tbody tr th {\n",
       "        vertical-align: top;\n",
       "    }\n",
       "\n",
       "    .dataframe thead th {\n",
       "        text-align: right;\n",
       "    }\n",
       "</style>\n",
       "<table border=\"1\" class=\"dataframe\">\n",
       "  <thead>\n",
       "    <tr style=\"text-align: right;\">\n",
       "      <th></th>\n",
       "      <th>permalink</th>\n",
       "      <th>name</th>\n",
       "      <th>homepage_url</th>\n",
       "      <th>category_list</th>\n",
       "      <th>status</th>\n",
       "      <th>country_code</th>\n",
       "      <th>state_code</th>\n",
       "      <th>region</th>\n",
       "      <th>city</th>\n",
       "      <th>founded_at</th>\n",
       "      <th>company_permalink</th>\n",
       "      <th>funding_round_permalink</th>\n",
       "      <th>funding_round_type</th>\n",
       "      <th>funding_round_code</th>\n",
       "      <th>funded_at</th>\n",
       "      <th>raised_amount_usd</th>\n",
       "    </tr>\n",
       "  </thead>\n",
       "  <tbody>\n",
       "    <tr>\n",
       "      <th>0</th>\n",
       "      <td>/ORGANIZATION/-QOUNTER</td>\n",
       "      <td>:Qounter</td>\n",
       "      <td>http://www.qounter.com</td>\n",
       "      <td>Application Platforms|Real Time|Social Network...</td>\n",
       "      <td>operating</td>\n",
       "      <td>USA</td>\n",
       "      <td>DE</td>\n",
       "      <td>DE - Other</td>\n",
       "      <td>Delaware City</td>\n",
       "      <td>04-09-2014</td>\n",
       "      <td>/ORGANIZATION/-QOUNTER</td>\n",
       "      <td>/funding-round/22dacff496eb7acb2b901dec1dfe5633</td>\n",
       "      <td>venture</td>\n",
       "      <td>A</td>\n",
       "      <td>14-10-2014</td>\n",
       "      <td>NaN</td>\n",
       "    </tr>\n",
       "    <tr>\n",
       "      <th>1</th>\n",
       "      <td>/ORGANIZATION/-THE-ONE-OF-THEM-INC-</td>\n",
       "      <td>(THE) ONE of THEM,Inc.</td>\n",
       "      <td>http://oneofthem.jp</td>\n",
       "      <td>Apps|Games|Mobile</td>\n",
       "      <td>operating</td>\n",
       "      <td>NaN</td>\n",
       "      <td>NaN</td>\n",
       "      <td>NaN</td>\n",
       "      <td>NaN</td>\n",
       "      <td>NaN</td>\n",
       "      <td>/ORGANIZATION/-THE-ONE-OF-THEM-INC-</td>\n",
       "      <td>/funding-round/650b8f704416801069bb178a1418776b</td>\n",
       "      <td>venture</td>\n",
       "      <td>B</td>\n",
       "      <td>30-01-2014</td>\n",
       "      <td>3406878.0</td>\n",
       "    </tr>\n",
       "    <tr>\n",
       "      <th>2</th>\n",
       "      <td>/ORGANIZATION/004-TECHNOLOGIES</td>\n",
       "      <td>004 Technologies</td>\n",
       "      <td>http://004gmbh.de/en/004-interact</td>\n",
       "      <td>Software</td>\n",
       "      <td>operating</td>\n",
       "      <td>USA</td>\n",
       "      <td>IL</td>\n",
       "      <td>Springfield, Illinois</td>\n",
       "      <td>Champaign</td>\n",
       "      <td>01-01-2010</td>\n",
       "      <td>/ORGANIZATION/004-TECHNOLOGIES</td>\n",
       "      <td>/funding-round/1278dd4e6a37fa4b7d7e06c21b3c1830</td>\n",
       "      <td>venture</td>\n",
       "      <td>NaN</td>\n",
       "      <td>24-07-2014</td>\n",
       "      <td>NaN</td>\n",
       "    </tr>\n",
       "    <tr>\n",
       "      <th>3</th>\n",
       "      <td>/ORGANIZATION/0NDINE-BIOMEDICAL-INC</td>\n",
       "      <td>Ondine Biomedical Inc.</td>\n",
       "      <td>http://ondinebio.com</td>\n",
       "      <td>Biotechnology</td>\n",
       "      <td>operating</td>\n",
       "      <td>CAN</td>\n",
       "      <td>BC</td>\n",
       "      <td>Vancouver</td>\n",
       "      <td>Vancouver</td>\n",
       "      <td>01-01-1997</td>\n",
       "      <td>/ORGANIZATION/0NDINE-BIOMEDICAL-INC</td>\n",
       "      <td>/funding-round/2b9d3ac293d5cdccbecff5c8cb0f327d</td>\n",
       "      <td>seed</td>\n",
       "      <td>NaN</td>\n",
       "      <td>11-09-2009</td>\n",
       "      <td>43360.0</td>\n",
       "    </tr>\n",
       "    <tr>\n",
       "      <th>4</th>\n",
       "      <td>/ORGANIZATION/0XDATA</td>\n",
       "      <td>H2O.ai</td>\n",
       "      <td>http://h2o.ai/</td>\n",
       "      <td>Analytics</td>\n",
       "      <td>operating</td>\n",
       "      <td>USA</td>\n",
       "      <td>CA</td>\n",
       "      <td>SF Bay Area</td>\n",
       "      <td>Mountain View</td>\n",
       "      <td>01-01-2011</td>\n",
       "      <td>/ORGANIZATION/0XDATA</td>\n",
       "      <td>/funding-round/383a9bd2c04f7038bb543ccef5ba3eae</td>\n",
       "      <td>seed</td>\n",
       "      <td>NaN</td>\n",
       "      <td>22-05-2013</td>\n",
       "      <td>3000000.0</td>\n",
       "    </tr>\n",
       "  </tbody>\n",
       "</table>\n",
       "</div>"
      ],
      "text/plain": [
       "                             permalink                    name  \\\n",
       "0               /ORGANIZATION/-QOUNTER                :Qounter   \n",
       "1  /ORGANIZATION/-THE-ONE-OF-THEM-INC-  (THE) ONE of THEM,Inc.   \n",
       "2       /ORGANIZATION/004-TECHNOLOGIES        004 Technologies   \n",
       "3  /ORGANIZATION/0NDINE-BIOMEDICAL-INC  Ondine Biomedical Inc.   \n",
       "4                 /ORGANIZATION/0XDATA                  H2O.ai   \n",
       "\n",
       "                        homepage_url  \\\n",
       "0             http://www.qounter.com   \n",
       "1                http://oneofthem.jp   \n",
       "2  http://004gmbh.de/en/004-interact   \n",
       "3               http://ondinebio.com   \n",
       "4                     http://h2o.ai/   \n",
       "\n",
       "                                       category_list     status country_code  \\\n",
       "0  Application Platforms|Real Time|Social Network...  operating          USA   \n",
       "1                                  Apps|Games|Mobile  operating          NaN   \n",
       "2                                           Software  operating          USA   \n",
       "3                                      Biotechnology  operating          CAN   \n",
       "4                                          Analytics  operating          USA   \n",
       "\n",
       "  state_code                 region           city  founded_at  \\\n",
       "0         DE             DE - Other  Delaware City  04-09-2014   \n",
       "1        NaN                    NaN            NaN         NaN   \n",
       "2         IL  Springfield, Illinois      Champaign  01-01-2010   \n",
       "3         BC              Vancouver      Vancouver  01-01-1997   \n",
       "4         CA            SF Bay Area  Mountain View  01-01-2011   \n",
       "\n",
       "                     company_permalink  \\\n",
       "0               /ORGANIZATION/-QOUNTER   \n",
       "1  /ORGANIZATION/-THE-ONE-OF-THEM-INC-   \n",
       "2       /ORGANIZATION/004-TECHNOLOGIES   \n",
       "3  /ORGANIZATION/0NDINE-BIOMEDICAL-INC   \n",
       "4                 /ORGANIZATION/0XDATA   \n",
       "\n",
       "                           funding_round_permalink funding_round_type  \\\n",
       "0  /funding-round/22dacff496eb7acb2b901dec1dfe5633            venture   \n",
       "1  /funding-round/650b8f704416801069bb178a1418776b            venture   \n",
       "2  /funding-round/1278dd4e6a37fa4b7d7e06c21b3c1830            venture   \n",
       "3  /funding-round/2b9d3ac293d5cdccbecff5c8cb0f327d               seed   \n",
       "4  /funding-round/383a9bd2c04f7038bb543ccef5ba3eae               seed   \n",
       "\n",
       "  funding_round_code   funded_at  raised_amount_usd  \n",
       "0                  A  14-10-2014                NaN  \n",
       "1                  B  30-01-2014          3406878.0  \n",
       "2                NaN  24-07-2014                NaN  \n",
       "3                NaN  11-09-2009            43360.0  \n",
       "4                NaN  22-05-2013          3000000.0  "
      ]
     },
     "execution_count": 14,
     "metadata": {},
     "output_type": "execute_result"
    }
   ],
   "source": [
    "master_frame = pd.merge(companies,round2,how=\"inner\",right_on=\"company_permalink\",left_on=\"permalink\") # craeting a dataframe by merging the two datasets companies and round2 by inner join using th two columns,\"cpmapny_permalink\" and \"permalink\"\n",
    "master_frame.head()"
   ]
  },
  {
   "cell_type": "code",
   "execution_count": 15,
   "id": "6dc09780",
   "metadata": {
    "scrolled": true
   },
   "outputs": [
    {
     "data": {
      "text/plain": [
       "(57454, 16)"
      ]
     },
     "execution_count": 15,
     "metadata": {},
     "output_type": "execute_result"
    }
   ],
   "source": [
    "# Returns a tuple of number of rows and column(dimensions) in a dataframe\n",
    "master_frame.shape"
   ]
  },
  {
   "cell_type": "markdown",
   "id": "0e561fa3",
   "metadata": {},
   "source": [
    "**Explanation**\n",
    "- `pd.merge()` - Function that merges two DataFrames based on one or more common columns.\n",
    "- `companies` - First DataFrame to be merged\n",
    "- `round2` - second DataFrame to be merged.\n",
    "- `how=\"inner\"`: Specifies the type of merge to be performed. Here, an inner join implies that we get only the rows with matching values in both DataFrames in the merged DataFrame.\n",
    "- `right_on=\"company_permalink\"` and `left_on=\"permalink\"` - Specify the columns in the round2 and companies dataframe to be used for the merge respectively. "
   ]
  },
  {
   "cell_type": "markdown",
   "id": "e61040c4",
   "metadata": {},
   "source": [
    "### Drop the redundant column ‘'company_permalink' from the master_dataframe."
   ]
  },
  {
   "cell_type": "code",
   "execution_count": 63,
   "id": "b30389b4",
   "metadata": {},
   "outputs": [],
   "source": [
    "master_frame.drop(columns = 'company_permalink', inplace=True) # drpping the column \"company_permalink\" from the dataframe"
   ]
  },
  {
   "cell_type": "markdown",
   "id": "3486d29f",
   "metadata": {},
   "source": [
    "### Percentage missing value (column-wise) in master_dataframe. Drop unnecessary columns."
   ]
  },
  {
   "cell_type": "code",
   "execution_count": 16,
   "id": "f83b0c9e",
   "metadata": {
    "scrolled": false
   },
   "outputs": [
    {
     "data": {
      "text/plain": [
       "permalink                   0.000000\n",
       "name                        0.000000\n",
       "homepage_url                5.273784\n",
       "category_list               3.047656\n",
       "status                      0.000000\n",
       "country_code                7.465103\n",
       "state_code                  9.411007\n",
       "region                      8.740906\n",
       "city                        8.737425\n",
       "founded_at                 17.826435\n",
       "company_permalink           0.000000\n",
       "funding_round_permalink     0.000000\n",
       "funding_round_type          0.000000\n",
       "funding_round_code         73.070630\n",
       "funded_at                   0.000000\n",
       "raised_amount_usd          17.495736\n",
       "dtype: float64"
      ]
     },
     "execution_count": 16,
     "metadata": {},
     "output_type": "execute_result"
    }
   ],
   "source": [
    "missing_values = master_frame.isnull().sum()/len(master_frame) * 100                                                             \n",
    "missing_values"
   ]
  },
  {
   "cell_type": "code",
   "execution_count": 65,
   "id": "ae508ce0",
   "metadata": {},
   "outputs": [
    {
     "data": {
      "image/png": "[encoded data removed]",
      "text/plain": [
       "<Figure size 576x432 with 1 Axes>"
      ]
     },
     "metadata": {},
     "output_type": "display_data"
    }
   ],
   "source": [
    "#plotting pie chart for visualizing the percentage of missing values in different columns in dataframe\n",
    "missing_values.plot(kind=\"pie\",figsize=(8,6)) \n",
    "plt.show() "
   ]
  },
  {
   "cell_type": "code",
   "execution_count": 66,
   "id": "8ed63e85",
   "metadata": {},
   "outputs": [],
   "source": [
    " # dropping the column \"funding_round_code\" from master_frame dataframe\n",
    "master_frame.drop(columns ='funding_round_code',inplace=True)"
   ]
  },
  {
   "cell_type": "markdown",
   "id": "ce251a56",
   "metadata": {},
   "source": [
    "**Inference:** We drop the column `'funding_round_code'` as most of the values it contains are missing  `73%(approx.)`. If we try to impute values for such a column it might result in a biased analysis. So, it is better to drop such a column."
   ]
  },
  {
   "cell_type": "markdown",
   "id": "3408addb",
   "metadata": {},
   "source": [
    "<a id='analysis'></a>\n",
    "# ANALYSIS"
   ]
  },
  {
   "cell_type": "markdown",
   "id": "a681a087",
   "metadata": {},
   "source": [
    "### Pivot table to compare the mean and median values for ‘raised_amount_usd’ and ‘funding_round_type’ across different funding round categories."
   ]
  },
  {
   "cell_type": "code",
   "execution_count": 67,
   "id": "37e791f8",
   "metadata": {
    "scrolled": true
   },
   "outputs": [
    {
     "data": {
      "text/html": [
       "<div>\n",
       "<style scoped>\n",
       "    .dataframe tbody tr th:only-of-type {\n",
       "        vertical-align: middle;\n",
       "    }\n",
       "\n",
       "    .dataframe tbody tr th {\n",
       "        vertical-align: top;\n",
       "    }\n",
       "\n",
       "    .dataframe thead tr th {\n",
       "        text-align: left;\n",
       "    }\n",
       "\n",
       "    .dataframe thead tr:last-of-type th {\n",
       "        text-align: right;\n",
       "    }\n",
       "</style>\n",
       "<table border=\"1\" class=\"dataframe\">\n",
       "  <thead>\n",
       "    <tr>\n",
       "      <th></th>\n",
       "      <th>mean</th>\n",
       "      <th>median</th>\n",
       "    </tr>\n",
       "    <tr>\n",
       "      <th></th>\n",
       "      <th>raised_amount_usd</th>\n",
       "      <th>raised_amount_usd</th>\n",
       "    </tr>\n",
       "    <tr>\n",
       "      <th>funding_round_type</th>\n",
       "      <th></th>\n",
       "      <th></th>\n",
       "    </tr>\n",
       "  </thead>\n",
       "  <tbody>\n",
       "    <tr>\n",
       "      <th>angel</th>\n",
       "      <td>764,564.3457</td>\n",
       "      <td>250000</td>\n",
       "    </tr>\n",
       "    <tr>\n",
       "      <th>convertible_note</th>\n",
       "      <td>1,157,471.4210</td>\n",
       "      <td>150000</td>\n",
       "    </tr>\n",
       "    <tr>\n",
       "      <th>debt_financing</th>\n",
       "      <td>9,951,837.5121</td>\n",
       "      <td>1000000</td>\n",
       "    </tr>\n",
       "    <tr>\n",
       "      <th>equity_crowdfunding</th>\n",
       "      <td>202,983.1633</td>\n",
       "      <td>0</td>\n",
       "    </tr>\n",
       "    <tr>\n",
       "      <th>grant</th>\n",
       "      <td>4,152,010.9750</td>\n",
       "      <td>180000</td>\n",
       "    </tr>\n",
       "    <tr>\n",
       "      <th>non_equity_assistance</th>\n",
       "      <td>157,161.3770</td>\n",
       "      <td>0</td>\n",
       "    </tr>\n",
       "    <tr>\n",
       "      <th>post_ipo_debt</th>\n",
       "      <td>79,263,997.5066</td>\n",
       "      <td>15000000</td>\n",
       "    </tr>\n",
       "    <tr>\n",
       "      <th>post_ipo_equity</th>\n",
       "      <td>52,430,556.7649</td>\n",
       "      <td>12000000</td>\n",
       "    </tr>\n",
       "    <tr>\n",
       "      <th>private_equity</th>\n",
       "      <td>56,623,636.1444</td>\n",
       "      <td>12000000</td>\n",
       "    </tr>\n",
       "    <tr>\n",
       "      <th>product_crowdfunding</th>\n",
       "      <td>1,283,338.0317</td>\n",
       "      <td>165000</td>\n",
       "    </tr>\n",
       "    <tr>\n",
       "      <th>secondary_market</th>\n",
       "      <td>25,152,514.7684</td>\n",
       "      <td>0</td>\n",
       "    </tr>\n",
       "    <tr>\n",
       "      <th>seed</th>\n",
       "      <td>556,606.7416</td>\n",
       "      <td>120000</td>\n",
       "    </tr>\n",
       "    <tr>\n",
       "      <th>undisclosed</th>\n",
       "      <td>2,199,097.1519</td>\n",
       "      <td>0</td>\n",
       "    </tr>\n",
       "    <tr>\n",
       "      <th>venture</th>\n",
       "      <td>10,154,814.0264</td>\n",
       "      <td>4000000</td>\n",
       "    </tr>\n",
       "  </tbody>\n",
       "</table>\n",
       "</div>"
      ],
      "text/plain": [
       "                                   mean            median\n",
       "                      raised_amount_usd raised_amount_usd\n",
       "funding_round_type                                       \n",
       "angel                      764,564.3457            250000\n",
       "convertible_note         1,157,471.4210            150000\n",
       "debt_financing           9,951,837.5121           1000000\n",
       "equity_crowdfunding        202,983.1633                 0\n",
       "grant                    4,152,010.9750            180000\n",
       "non_equity_assistance      157,161.3770                 0\n",
       "post_ipo_debt           79,263,997.5066          15000000\n",
       "post_ipo_equity         52,430,556.7649          12000000\n",
       "private_equity          56,623,636.1444          12000000\n",
       "product_crowdfunding     1,283,338.0317            165000\n",
       "secondary_market        25,152,514.7684                 0\n",
       "seed                       556,606.7416            120000\n",
       "undisclosed              2,199,097.1519                 0\n",
       "venture                 10,154,814.0264           4000000"
      ]
     },
     "execution_count": 67,
     "metadata": {},
     "output_type": "execute_result"
    }
   ],
   "source": [
    "#setting the floating point to display 4 decimals\n",
    "pd.options.display.float_format = '{:,.4f}'.format \n",
    "\n",
    "# replacing the missing values to zero\n",
    "round2[\"raised_amount_usd\"].fillna(0,inplace=True) \n",
    "\n",
    "#converting datatype from float to int\n",
    "round2[\"raised_amount_usd\"] = round2[\"raised_amount_usd\"].astype(int) \n",
    "\n",
    "# creating pivot table to compare mean and median values\n",
    "pd.pivot_table(round2, index = ['funding_round_type'], aggfunc=['mean','median']) "
   ]
  },
  {
   "cell_type": "code",
   "execution_count": 17,
   "id": "73388090",
   "metadata": {},
   "outputs": [
    {
     "data": {
      "image/png": "[encoded data removed]",
      "text/plain": [
       "<Figure size 576x432 with 1 Axes>"
      ]
     },
     "metadata": {
      "needs_background": "light"
     },
     "output_type": "display_data"
    }
   ],
   "source": [
    "pd.pivot_table(round2, index = ['funding_round_type'], aggfunc=['mean','median']).plot(kind=\"bar\",figsize=(8,6))\n",
    "plt.title('Mean and Median of Funding Amount by Funding Round Type') \n",
    "plt.xlabel('Funding Round Type')                                     \n",
    "plt.ylabel('Funding Amount (USD)')                                   \n",
    "\n",
    "handles, labels = plt.gca().get_legend_handles_labels()             # retrieving the handles and legends of the current axis\n",
    "new_labels = ['Mean Funding Amount', 'Median Funding Amount']       # declaring new handles \n",
    "plt.legend(handles, new_labels)                                     # setting the updated legend\n",
    "plt.show()                                                          "
   ]
  },
  {
   "cell_type": "markdown",
   "id": "8b49afd0",
   "metadata": {},
   "source": [
    "**Explanation:**\n",
    " - `handles, labels = plt.gca().get_legend_handles_labels()` -  retrieves the handles and labels of the legend of the current axis (gca stands for \"get current axis\").\n",
    " - `new_labels = ['Mean Funding Amount', 'Median Funding Amount']` - creates a new list of labels to replace the original labels.\n",
    " - `plt.legend(handles, new_labels)`- updates the legend of the plot with the new labels. The handles argument is a list of artists that represent the data being plotted, and the new_labels argument is a list of labels to use for each artist."
   ]
  },
  {
   "cell_type": "markdown",
   "id": "82f80cc5",
   "metadata": {},
   "source": [
    "\n",
    "**Inference**- We can see that our mean values are greater than the median values for some funding types, which suggest that our data is probably `right/positively skewed`. However, for the categories equity_crowdfunding, non_equity_assistance, secondary_market, seed, and undisclosed, the median is either greater than or equal to the mean, which suggests that the distribution of funding amounts in these categories may not be strongly right-skewed."
   ]
  },
  {
   "cell_type": "markdown",
   "id": "073ec21c",
   "metadata": {},
   "source": [
    "### Filter the master_dataframe on ‘raised_amount_usd’ such as ‘raised_amount_usd’ lie between 4 Millions to 15 Millions."
   ]
  },
  {
   "cell_type": "code",
   "execution_count": 18,
   "id": "78f06d36",
   "metadata": {
    "scrolled": true
   },
   "outputs": [
    {
     "data": {
      "text/html": [
       "<div>\n",
       "<style scoped>\n",
       "    .dataframe tbody tr th:only-of-type {\n",
       "        vertical-align: middle;\n",
       "    }\n",
       "\n",
       "    .dataframe tbody tr th {\n",
       "        vertical-align: top;\n",
       "    }\n",
       "\n",
       "    .dataframe thead th {\n",
       "        text-align: right;\n",
       "    }\n",
       "</style>\n",
       "<table border=\"1\" class=\"dataframe\">\n",
       "  <thead>\n",
       "    <tr style=\"text-align: right;\">\n",
       "      <th></th>\n",
       "      <th>permalink</th>\n",
       "      <th>name</th>\n",
       "      <th>homepage_url</th>\n",
       "      <th>category_list</th>\n",
       "      <th>status</th>\n",
       "      <th>country_code</th>\n",
       "      <th>state_code</th>\n",
       "      <th>region</th>\n",
       "      <th>city</th>\n",
       "      <th>founded_at</th>\n",
       "      <th>company_permalink</th>\n",
       "      <th>funding_round_permalink</th>\n",
       "      <th>funding_round_type</th>\n",
       "      <th>funding_round_code</th>\n",
       "      <th>funded_at</th>\n",
       "      <th>raised_amount_usd</th>\n",
       "    </tr>\n",
       "  </thead>\n",
       "  <tbody>\n",
       "    <tr>\n",
       "      <th>10</th>\n",
       "      <td>/ORGANIZATION/1-800-PUBLICRELATIONS-INC-</td>\n",
       "      <td>1-800-PublicRelations, Inc.</td>\n",
       "      <td>http://www.1800publicrelations.com</td>\n",
       "      <td>Internet Marketing|Media|Public Relations</td>\n",
       "      <td>operating</td>\n",
       "      <td>USA</td>\n",
       "      <td>NY</td>\n",
       "      <td>New York City</td>\n",
       "      <td>New York</td>\n",
       "      <td>24-10-2013</td>\n",
       "      <td>/ORGANIZATION/1-800-PUBLICRELATIONS-INC-</td>\n",
       "      <td>/funding-round/11c228f58831bc7ed337ef69ecc560c2</td>\n",
       "      <td>private_equity</td>\n",
       "      <td>NaN</td>\n",
       "      <td>01-02-2015</td>\n",
       "      <td>6000000.0</td>\n",
       "    </tr>\n",
       "    <tr>\n",
       "      <th>49</th>\n",
       "      <td>/ORGANIZATION/123FENG-COM</td>\n",
       "      <td>123Feng.Com</td>\n",
       "      <td>http://123feng.com/</td>\n",
       "      <td>NaN</td>\n",
       "      <td>operating</td>\n",
       "      <td>CHN</td>\n",
       "      <td>2</td>\n",
       "      <td>Hangzhou</td>\n",
       "      <td>Hangzhou</td>\n",
       "      <td>01-01-2014</td>\n",
       "      <td>/ORGANIZATION/123FENG-COM</td>\n",
       "      <td>/funding-round/9d83084d87dc63a309c9a6fe9bf59d1b</td>\n",
       "      <td>venture</td>\n",
       "      <td>A</td>\n",
       "      <td>27-10-2015</td>\n",
       "      <td>13000000.0</td>\n",
       "    </tr>\n",
       "    <tr>\n",
       "      <th>51</th>\n",
       "      <td>/ORGANIZATION/128-TECHNOLOGY</td>\n",
       "      <td>128 Technology</td>\n",
       "      <td>http://www.128technology.com/</td>\n",
       "      <td>Service Providers|Technology</td>\n",
       "      <td>operating</td>\n",
       "      <td>USA</td>\n",
       "      <td>MA</td>\n",
       "      <td>Boston</td>\n",
       "      <td>Burlington</td>\n",
       "      <td>07-07-2014</td>\n",
       "      <td>/ORGANIZATION/128-TECHNOLOGY</td>\n",
       "      <td>/funding-round/fb6216a30cb566ede89e0bee0623a634</td>\n",
       "      <td>venture</td>\n",
       "      <td>NaN</td>\n",
       "      <td>16-12-2014</td>\n",
       "      <td>11999347.0</td>\n",
       "    </tr>\n",
       "    <tr>\n",
       "      <th>55</th>\n",
       "      <td>/ORGANIZATION/1366-TECHNOLOGIES</td>\n",
       "      <td>1366 Technologies</td>\n",
       "      <td>http://www.1366tech.com</td>\n",
       "      <td>Manufacturing</td>\n",
       "      <td>operating</td>\n",
       "      <td>USA</td>\n",
       "      <td>MA</td>\n",
       "      <td>Boston</td>\n",
       "      <td>Bedford</td>\n",
       "      <td>01-01-2007</td>\n",
       "      <td>/ORGANIZATION/1366-TECHNOLOGIES</td>\n",
       "      <td>/funding-round/6d3f3797371956ece035b8478c1441b2</td>\n",
       "      <td>venture</td>\n",
       "      <td>C</td>\n",
       "      <td>09-04-2015</td>\n",
       "      <td>5000000.0</td>\n",
       "    </tr>\n",
       "    <tr>\n",
       "      <th>56</th>\n",
       "      <td>/ORGANIZATION/1366-TECHNOLOGIES</td>\n",
       "      <td>1366 Technologies</td>\n",
       "      <td>http://www.1366tech.com</td>\n",
       "      <td>Manufacturing</td>\n",
       "      <td>operating</td>\n",
       "      <td>USA</td>\n",
       "      <td>MA</td>\n",
       "      <td>Boston</td>\n",
       "      <td>Bedford</td>\n",
       "      <td>01-01-2007</td>\n",
       "      <td>/ORGANIZATION/1366-TECHNOLOGIES</td>\n",
       "      <td>/funding-round/82ace97530965cd2be8f262836b43ff5</td>\n",
       "      <td>venture</td>\n",
       "      <td>A</td>\n",
       "      <td>27-03-2008</td>\n",
       "      <td>12400000.0</td>\n",
       "    </tr>\n",
       "    <tr>\n",
       "      <th>...</th>\n",
       "      <td>...</td>\n",
       "      <td>...</td>\n",
       "      <td>...</td>\n",
       "      <td>...</td>\n",
       "      <td>...</td>\n",
       "      <td>...</td>\n",
       "      <td>...</td>\n",
       "      <td>...</td>\n",
       "      <td>...</td>\n",
       "      <td>...</td>\n",
       "      <td>...</td>\n",
       "      <td>...</td>\n",
       "      <td>...</td>\n",
       "      <td>...</td>\n",
       "      <td>...</td>\n",
       "      <td>...</td>\n",
       "    </tr>\n",
       "    <tr>\n",
       "      <th>57425</th>\n",
       "      <td>/ORGANIZATION/ZYMEWORKS</td>\n",
       "      <td>Zymeworks</td>\n",
       "      <td>http://zymeworks.com</td>\n",
       "      <td>Biotechnology</td>\n",
       "      <td>operating</td>\n",
       "      <td>CAN</td>\n",
       "      <td>BC</td>\n",
       "      <td>Vancouver</td>\n",
       "      <td>Vancouver</td>\n",
       "      <td>01-04-2004</td>\n",
       "      <td>/ORGANIZATION/ZYMEWORKS</td>\n",
       "      <td>/funding-round/917b2ed7b99f219fcbc660c9789482d5</td>\n",
       "      <td>venture</td>\n",
       "      <td>D</td>\n",
       "      <td>22-09-2011</td>\n",
       "      <td>8100000.0</td>\n",
       "    </tr>\n",
       "    <tr>\n",
       "      <th>57426</th>\n",
       "      <td>/ORGANIZATION/ZYMEWORKS</td>\n",
       "      <td>Zymeworks</td>\n",
       "      <td>http://zymeworks.com</td>\n",
       "      <td>Biotechnology</td>\n",
       "      <td>operating</td>\n",
       "      <td>CAN</td>\n",
       "      <td>BC</td>\n",
       "      <td>Vancouver</td>\n",
       "      <td>Vancouver</td>\n",
       "      <td>01-04-2004</td>\n",
       "      <td>/ORGANIZATION/ZYMEWORKS</td>\n",
       "      <td>/funding-round/d7b019f508ef724ca3a851a4359a272f</td>\n",
       "      <td>venture</td>\n",
       "      <td>NaN</td>\n",
       "      <td>06-09-2012</td>\n",
       "      <td>11000000.0</td>\n",
       "    </tr>\n",
       "    <tr>\n",
       "      <th>57434</th>\n",
       "      <td>/ORGANIZATION/ZYNGA</td>\n",
       "      <td>Zynga</td>\n",
       "      <td>http://www.zynga.com</td>\n",
       "      <td>Facebook Applications|Games|Networking|Technology</td>\n",
       "      <td>ipo</td>\n",
       "      <td>USA</td>\n",
       "      <td>CA</td>\n",
       "      <td>SF Bay Area</td>\n",
       "      <td>San Francisco</td>\n",
       "      <td>01-07-2007</td>\n",
       "      <td>/ORGANIZATION/ZYNGA</td>\n",
       "      <td>/funding-round/5bebd7acdfd44138f81d162f21c532f9</td>\n",
       "      <td>venture</td>\n",
       "      <td>NaN</td>\n",
       "      <td>12-10-2010</td>\n",
       "      <td>6337786.0</td>\n",
       "    </tr>\n",
       "    <tr>\n",
       "      <th>57441</th>\n",
       "      <td>/ORGANIZATION/ZYOMYX-INC</td>\n",
       "      <td>ZYOMYX</td>\n",
       "      <td>http://www.zyomyx.com</td>\n",
       "      <td>Biotechnology</td>\n",
       "      <td>operating</td>\n",
       "      <td>USA</td>\n",
       "      <td>MO</td>\n",
       "      <td>MO - Other</td>\n",
       "      <td>Fremont</td>\n",
       "      <td>01-01-1998</td>\n",
       "      <td>/ORGANIZATION/ZYOMYX-INC</td>\n",
       "      <td>/funding-round/85443f5438bfd50104b9591eabc95c94</td>\n",
       "      <td>grant</td>\n",
       "      <td>NaN</td>\n",
       "      <td>26-03-2014</td>\n",
       "      <td>7500000.0</td>\n",
       "    </tr>\n",
       "    <tr>\n",
       "      <th>57446</th>\n",
       "      <td>/ORGANIZATION/ZYRAZ-TECHNOLOGY</td>\n",
       "      <td>Zyraz Technology</td>\n",
       "      <td>http://www.zyraz.com</td>\n",
       "      <td>Biotechnology</td>\n",
       "      <td>closed</td>\n",
       "      <td>MYS</td>\n",
       "      <td>14</td>\n",
       "      <td>MYS - Other</td>\n",
       "      <td>Damansara New Village</td>\n",
       "      <td>01-01-1994</td>\n",
       "      <td>/ORGANIZATION/ZYRAZ-TECHNOLOGY</td>\n",
       "      <td>/funding-round/e949f077c943db197f20e43c2eb8d0e6</td>\n",
       "      <td>venture</td>\n",
       "      <td>A</td>\n",
       "      <td>09-10-2009</td>\n",
       "      <td>7991547.0</td>\n",
       "    </tr>\n",
       "  </tbody>\n",
       "</table>\n",
       "<p>11065 rows × 16 columns</p>\n",
       "</div>"
      ],
      "text/plain": [
       "                                      permalink                         name  \\\n",
       "10     /ORGANIZATION/1-800-PUBLICRELATIONS-INC-  1-800-PublicRelations, Inc.   \n",
       "49                    /ORGANIZATION/123FENG-COM                  123Feng.Com   \n",
       "51                 /ORGANIZATION/128-TECHNOLOGY               128 Technology   \n",
       "55              /ORGANIZATION/1366-TECHNOLOGIES            1366 Technologies   \n",
       "56              /ORGANIZATION/1366-TECHNOLOGIES            1366 Technologies   \n",
       "...                                         ...                          ...   \n",
       "57425                   /ORGANIZATION/ZYMEWORKS                    Zymeworks   \n",
       "57426                   /ORGANIZATION/ZYMEWORKS                    Zymeworks   \n",
       "57434                       /ORGANIZATION/ZYNGA                        Zynga   \n",
       "57441                  /ORGANIZATION/ZYOMYX-INC                       ZYOMYX   \n",
       "57446            /ORGANIZATION/ZYRAZ-TECHNOLOGY             Zyraz Technology   \n",
       "\n",
       "                             homepage_url  \\\n",
       "10     http://www.1800publicrelations.com   \n",
       "49                    http://123feng.com/   \n",
       "51          http://www.128technology.com/   \n",
       "55                http://www.1366tech.com   \n",
       "56                http://www.1366tech.com   \n",
       "...                                   ...   \n",
       "57425                http://zymeworks.com   \n",
       "57426                http://zymeworks.com   \n",
       "57434                http://www.zynga.com   \n",
       "57441               http://www.zyomyx.com   \n",
       "57446                http://www.zyraz.com   \n",
       "\n",
       "                                           category_list     status  \\\n",
       "10             Internet Marketing|Media|Public Relations  operating   \n",
       "49                                                   NaN  operating   \n",
       "51                          Service Providers|Technology  operating   \n",
       "55                                         Manufacturing  operating   \n",
       "56                                         Manufacturing  operating   \n",
       "...                                                  ...        ...   \n",
       "57425                                      Biotechnology  operating   \n",
       "57426                                      Biotechnology  operating   \n",
       "57434  Facebook Applications|Games|Networking|Technology        ipo   \n",
       "57441                                      Biotechnology  operating   \n",
       "57446                                      Biotechnology     closed   \n",
       "\n",
       "      country_code state_code         region                   city  \\\n",
       "10             USA         NY  New York City               New York   \n",
       "49             CHN          2       Hangzhou               Hangzhou   \n",
       "51             USA         MA         Boston             Burlington   \n",
       "55             USA         MA         Boston                Bedford   \n",
       "56             USA         MA         Boston                Bedford   \n",
       "...            ...        ...            ...                    ...   \n",
       "57425          CAN         BC      Vancouver              Vancouver   \n",
       "57426          CAN         BC      Vancouver              Vancouver   \n",
       "57434          USA         CA    SF Bay Area          San Francisco   \n",
       "57441          USA         MO     MO - Other                Fremont   \n",
       "57446          MYS         14    MYS - Other  Damansara New Village   \n",
       "\n",
       "       founded_at                         company_permalink  \\\n",
       "10     24-10-2013  /ORGANIZATION/1-800-PUBLICRELATIONS-INC-   \n",
       "49     01-01-2014                 /ORGANIZATION/123FENG-COM   \n",
       "51     07-07-2014              /ORGANIZATION/128-TECHNOLOGY   \n",
       "55     01-01-2007           /ORGANIZATION/1366-TECHNOLOGIES   \n",
       "56     01-01-2007           /ORGANIZATION/1366-TECHNOLOGIES   \n",
       "...           ...                                       ...   \n",
       "57425  01-04-2004                   /ORGANIZATION/ZYMEWORKS   \n",
       "57426  01-04-2004                   /ORGANIZATION/ZYMEWORKS   \n",
       "57434  01-07-2007                       /ORGANIZATION/ZYNGA   \n",
       "57441  01-01-1998                  /ORGANIZATION/ZYOMYX-INC   \n",
       "57446  01-01-1994            /ORGANIZATION/ZYRAZ-TECHNOLOGY   \n",
       "\n",
       "                               funding_round_permalink funding_round_type  \\\n",
       "10     /funding-round/11c228f58831bc7ed337ef69ecc560c2     private_equity   \n",
       "49     /funding-round/9d83084d87dc63a309c9a6fe9bf59d1b            venture   \n",
       "51     /funding-round/fb6216a30cb566ede89e0bee0623a634            venture   \n",
       "55     /funding-round/6d3f3797371956ece035b8478c1441b2            venture   \n",
       "56     /funding-round/82ace97530965cd2be8f262836b43ff5            venture   \n",
       "...                                                ...                ...   \n",
       "57425  /funding-round/917b2ed7b99f219fcbc660c9789482d5            venture   \n",
       "57426  /funding-round/d7b019f508ef724ca3a851a4359a272f            venture   \n",
       "57434  /funding-round/5bebd7acdfd44138f81d162f21c532f9            venture   \n",
       "57441  /funding-round/85443f5438bfd50104b9591eabc95c94              grant   \n",
       "57446  /funding-round/e949f077c943db197f20e43c2eb8d0e6            venture   \n",
       "\n",
       "      funding_round_code   funded_at  raised_amount_usd  \n",
       "10                   NaN  01-02-2015          6000000.0  \n",
       "49                     A  27-10-2015         13000000.0  \n",
       "51                   NaN  16-12-2014         11999347.0  \n",
       "55                     C  09-04-2015          5000000.0  \n",
       "56                     A  27-03-2008         12400000.0  \n",
       "...                  ...         ...                ...  \n",
       "57425                  D  22-09-2011          8100000.0  \n",
       "57426                NaN  06-09-2012         11000000.0  \n",
       "57434                NaN  12-10-2010          6337786.0  \n",
       "57441                NaN  26-03-2014          7500000.0  \n",
       "57446                  A  09-10-2009          7991547.0  \n",
       "\n",
       "[11065 rows x 16 columns]"
      ]
     },
     "execution_count": 18,
     "metadata": {},
     "output_type": "execute_result"
    }
   ],
   "source": [
    "filtered_master_df = master_frame[(master_frame['raised_amount_usd'] >=4000000) & (master_frame['raised_amount_usd'] <=15000000)]\n",
    "filtered_master_df"
   ]
  },
  {
   "cell_type": "markdown",
   "id": "cca77f28",
   "metadata": {},
   "source": [
    "### Creating ‘main_category’ column by extracting the main sector using the column ‘category_list’"
   ]
  },
  {
   "cell_type": "code",
   "execution_count": 19,
   "id": "3f67f002",
   "metadata": {
    "scrolled": false
   },
   "outputs": [
    {
     "data": {
      "text/html": [
       "<div>\n",
       "<style scoped>\n",
       "    .dataframe tbody tr th:only-of-type {\n",
       "        vertical-align: middle;\n",
       "    }\n",
       "\n",
       "    .dataframe tbody tr th {\n",
       "        vertical-align: top;\n",
       "    }\n",
       "\n",
       "    .dataframe thead th {\n",
       "        text-align: right;\n",
       "    }\n",
       "</style>\n",
       "<table border=\"1\" class=\"dataframe\">\n",
       "  <thead>\n",
       "    <tr style=\"text-align: right;\">\n",
       "      <th></th>\n",
       "      <th>permalink</th>\n",
       "      <th>name</th>\n",
       "      <th>homepage_url</th>\n",
       "      <th>category_list</th>\n",
       "      <th>status</th>\n",
       "      <th>country_code</th>\n",
       "      <th>state_code</th>\n",
       "      <th>region</th>\n",
       "      <th>city</th>\n",
       "      <th>founded_at</th>\n",
       "      <th>company_permalink</th>\n",
       "      <th>funding_round_permalink</th>\n",
       "      <th>funding_round_type</th>\n",
       "      <th>funding_round_code</th>\n",
       "      <th>funded_at</th>\n",
       "      <th>raised_amount_usd</th>\n",
       "      <th>main_category</th>\n",
       "    </tr>\n",
       "  </thead>\n",
       "  <tbody>\n",
       "    <tr>\n",
       "      <th>0</th>\n",
       "      <td>/ORGANIZATION/-QOUNTER</td>\n",
       "      <td>:Qounter</td>\n",
       "      <td>http://www.qounter.com</td>\n",
       "      <td>Application Platforms|Real Time|Social Network...</td>\n",
       "      <td>operating</td>\n",
       "      <td>USA</td>\n",
       "      <td>DE</td>\n",
       "      <td>DE - Other</td>\n",
       "      <td>Delaware City</td>\n",
       "      <td>04-09-2014</td>\n",
       "      <td>/ORGANIZATION/-QOUNTER</td>\n",
       "      <td>/funding-round/22dacff496eb7acb2b901dec1dfe5633</td>\n",
       "      <td>venture</td>\n",
       "      <td>A</td>\n",
       "      <td>14-10-2014</td>\n",
       "      <td>NaN</td>\n",
       "      <td>Social Network Media</td>\n",
       "    </tr>\n",
       "    <tr>\n",
       "      <th>1</th>\n",
       "      <td>/ORGANIZATION/-THE-ONE-OF-THEM-INC-</td>\n",
       "      <td>(THE) ONE of THEM,Inc.</td>\n",
       "      <td>http://oneofthem.jp</td>\n",
       "      <td>Apps|Games|Mobile</td>\n",
       "      <td>operating</td>\n",
       "      <td>NaN</td>\n",
       "      <td>NaN</td>\n",
       "      <td>NaN</td>\n",
       "      <td>NaN</td>\n",
       "      <td>NaN</td>\n",
       "      <td>/ORGANIZATION/-THE-ONE-OF-THEM-INC-</td>\n",
       "      <td>/funding-round/650b8f704416801069bb178a1418776b</td>\n",
       "      <td>venture</td>\n",
       "      <td>B</td>\n",
       "      <td>30-01-2014</td>\n",
       "      <td>3406878.0</td>\n",
       "      <td>Mobile</td>\n",
       "    </tr>\n",
       "    <tr>\n",
       "      <th>2</th>\n",
       "      <td>/ORGANIZATION/004-TECHNOLOGIES</td>\n",
       "      <td>004 Technologies</td>\n",
       "      <td>http://004gmbh.de/en/004-interact</td>\n",
       "      <td>Software</td>\n",
       "      <td>operating</td>\n",
       "      <td>USA</td>\n",
       "      <td>IL</td>\n",
       "      <td>Springfield, Illinois</td>\n",
       "      <td>Champaign</td>\n",
       "      <td>01-01-2010</td>\n",
       "      <td>/ORGANIZATION/004-TECHNOLOGIES</td>\n",
       "      <td>/funding-round/1278dd4e6a37fa4b7d7e06c21b3c1830</td>\n",
       "      <td>venture</td>\n",
       "      <td>NaN</td>\n",
       "      <td>24-07-2014</td>\n",
       "      <td>NaN</td>\n",
       "      <td>Software</td>\n",
       "    </tr>\n",
       "    <tr>\n",
       "      <th>3</th>\n",
       "      <td>/ORGANIZATION/0NDINE-BIOMEDICAL-INC</td>\n",
       "      <td>Ondine Biomedical Inc.</td>\n",
       "      <td>http://ondinebio.com</td>\n",
       "      <td>Biotechnology</td>\n",
       "      <td>operating</td>\n",
       "      <td>CAN</td>\n",
       "      <td>BC</td>\n",
       "      <td>Vancouver</td>\n",
       "      <td>Vancouver</td>\n",
       "      <td>01-01-1997</td>\n",
       "      <td>/ORGANIZATION/0NDINE-BIOMEDICAL-INC</td>\n",
       "      <td>/funding-round/2b9d3ac293d5cdccbecff5c8cb0f327d</td>\n",
       "      <td>seed</td>\n",
       "      <td>NaN</td>\n",
       "      <td>11-09-2009</td>\n",
       "      <td>43360.0</td>\n",
       "      <td>Biotechnology</td>\n",
       "    </tr>\n",
       "    <tr>\n",
       "      <th>4</th>\n",
       "      <td>/ORGANIZATION/0XDATA</td>\n",
       "      <td>H2O.ai</td>\n",
       "      <td>http://h2o.ai/</td>\n",
       "      <td>Analytics</td>\n",
       "      <td>operating</td>\n",
       "      <td>USA</td>\n",
       "      <td>CA</td>\n",
       "      <td>SF Bay Area</td>\n",
       "      <td>Mountain View</td>\n",
       "      <td>01-01-2011</td>\n",
       "      <td>/ORGANIZATION/0XDATA</td>\n",
       "      <td>/funding-round/383a9bd2c04f7038bb543ccef5ba3eae</td>\n",
       "      <td>seed</td>\n",
       "      <td>NaN</td>\n",
       "      <td>22-05-2013</td>\n",
       "      <td>3000000.0</td>\n",
       "      <td>Analytics</td>\n",
       "    </tr>\n",
       "  </tbody>\n",
       "</table>\n",
       "</div>"
      ],
      "text/plain": [
       "                             permalink                    name  \\\n",
       "0               /ORGANIZATION/-QOUNTER                :Qounter   \n",
       "1  /ORGANIZATION/-THE-ONE-OF-THEM-INC-  (THE) ONE of THEM,Inc.   \n",
       "2       /ORGANIZATION/004-TECHNOLOGIES        004 Technologies   \n",
       "3  /ORGANIZATION/0NDINE-BIOMEDICAL-INC  Ondine Biomedical Inc.   \n",
       "4                 /ORGANIZATION/0XDATA                  H2O.ai   \n",
       "\n",
       "                        homepage_url  \\\n",
       "0             http://www.qounter.com   \n",
       "1                http://oneofthem.jp   \n",
       "2  http://004gmbh.de/en/004-interact   \n",
       "3               http://ondinebio.com   \n",
       "4                     http://h2o.ai/   \n",
       "\n",
       "                                       category_list     status country_code  \\\n",
       "0  Application Platforms|Real Time|Social Network...  operating          USA   \n",
       "1                                  Apps|Games|Mobile  operating          NaN   \n",
       "2                                           Software  operating          USA   \n",
       "3                                      Biotechnology  operating          CAN   \n",
       "4                                          Analytics  operating          USA   \n",
       "\n",
       "  state_code                 region           city  founded_at  \\\n",
       "0         DE             DE - Other  Delaware City  04-09-2014   \n",
       "1        NaN                    NaN            NaN         NaN   \n",
       "2         IL  Springfield, Illinois      Champaign  01-01-2010   \n",
       "3         BC              Vancouver      Vancouver  01-01-1997   \n",
       "4         CA            SF Bay Area  Mountain View  01-01-2011   \n",
       "\n",
       "                     company_permalink  \\\n",
       "0               /ORGANIZATION/-QOUNTER   \n",
       "1  /ORGANIZATION/-THE-ONE-OF-THEM-INC-   \n",
       "2       /ORGANIZATION/004-TECHNOLOGIES   \n",
       "3  /ORGANIZATION/0NDINE-BIOMEDICAL-INC   \n",
       "4                 /ORGANIZATION/0XDATA   \n",
       "\n",
       "                           funding_round_permalink funding_round_type  \\\n",
       "0  /funding-round/22dacff496eb7acb2b901dec1dfe5633            venture   \n",
       "1  /funding-round/650b8f704416801069bb178a1418776b            venture   \n",
       "2  /funding-round/1278dd4e6a37fa4b7d7e06c21b3c1830            venture   \n",
       "3  /funding-round/2b9d3ac293d5cdccbecff5c8cb0f327d               seed   \n",
       "4  /funding-round/383a9bd2c04f7038bb543ccef5ba3eae               seed   \n",
       "\n",
       "  funding_round_code   funded_at  raised_amount_usd         main_category  \n",
       "0                  A  14-10-2014                NaN  Social Network Media  \n",
       "1                  B  30-01-2014          3406878.0                Mobile  \n",
       "2                NaN  24-07-2014                NaN              Software  \n",
       "3                NaN  11-09-2009            43360.0         Biotechnology  \n",
       "4                NaN  22-05-2013          3000000.0             Analytics  "
      ]
     },
     "execution_count": 19,
     "metadata": {},
     "output_type": "execute_result"
    }
   ],
   "source": [
    "#displaying the first 15 rows of the the columns name and category_list\n",
    "master_frame[[\"name\",\"category_list\"]].head(15) \n",
    "\n",
    "#splitting the strings in the column using \"|\" as delimiter and retrieving the last string using '.str[-1]'\n",
    "master_frame[\"main_category\"]=master_frame[\"category_list\"].str.split(\"|\").str[-1]\n",
    "\n",
    "master_frame.head() "
   ]
  },
  {
   "cell_type": "markdown",
   "id": "12b5fab6",
   "metadata": {},
   "source": [
    "**Approach:** The category list consists of number of sectors to which the particular sector belongs to. The main sector of the company was observed to be mentioned at the `last` and hence the `string function` is used to extract the main sector and include it in a new column `'main_category'`."
   ]
  },
  {
   "cell_type": "markdown",
   "id": "5e975e2d",
   "metadata": {},
   "source": [
    "### Convert the ‘rasied_amount_used’ column into a categorical column as follow a) If the amount is less than 5 Millions then recode as TypeA. b) If the amount is greater than 5 Millions and less than 7 Millions then recode as TypeB. c) If the amount is greater than 7 Millions then recode as TypeC"
   ]
  },
  {
   "cell_type": "code",
   "execution_count": 20,
   "id": "bd4b009d",
   "metadata": {
    "scrolled": false
   },
   "outputs": [
    {
     "data": {
      "text/html": [
       "<div>\n",
       "<style scoped>\n",
       "    .dataframe tbody tr th:only-of-type {\n",
       "        vertical-align: middle;\n",
       "    }\n",
       "\n",
       "    .dataframe tbody tr th {\n",
       "        vertical-align: top;\n",
       "    }\n",
       "\n",
       "    .dataframe thead th {\n",
       "        text-align: right;\n",
       "    }\n",
       "</style>\n",
       "<table border=\"1\" class=\"dataframe\">\n",
       "  <thead>\n",
       "    <tr style=\"text-align: right;\">\n",
       "      <th></th>\n",
       "      <th>permalink</th>\n",
       "      <th>name</th>\n",
       "      <th>homepage_url</th>\n",
       "      <th>category_list</th>\n",
       "      <th>status</th>\n",
       "      <th>country_code</th>\n",
       "      <th>state_code</th>\n",
       "      <th>region</th>\n",
       "      <th>city</th>\n",
       "      <th>founded_at</th>\n",
       "      <th>company_permalink</th>\n",
       "      <th>funding_round_permalink</th>\n",
       "      <th>funding_round_type</th>\n",
       "      <th>funding_round_code</th>\n",
       "      <th>funded_at</th>\n",
       "      <th>raised_amount_usd</th>\n",
       "      <th>main_category</th>\n",
       "      <th>raised_amount_type</th>\n",
       "    </tr>\n",
       "  </thead>\n",
       "  <tbody>\n",
       "    <tr>\n",
       "      <th>0</th>\n",
       "      <td>/ORGANIZATION/-QOUNTER</td>\n",
       "      <td>:Qounter</td>\n",
       "      <td>http://www.qounter.com</td>\n",
       "      <td>Application Platforms|Real Time|Social Network...</td>\n",
       "      <td>operating</td>\n",
       "      <td>USA</td>\n",
       "      <td>DE</td>\n",
       "      <td>DE - Other</td>\n",
       "      <td>Delaware City</td>\n",
       "      <td>04-09-2014</td>\n",
       "      <td>/ORGANIZATION/-QOUNTER</td>\n",
       "      <td>/funding-round/22dacff496eb7acb2b901dec1dfe5633</td>\n",
       "      <td>venture</td>\n",
       "      <td>A</td>\n",
       "      <td>14-10-2014</td>\n",
       "      <td>NaN</td>\n",
       "      <td>Social Network Media</td>\n",
       "      <td>Type C</td>\n",
       "    </tr>\n",
       "    <tr>\n",
       "      <th>1</th>\n",
       "      <td>/ORGANIZATION/-THE-ONE-OF-THEM-INC-</td>\n",
       "      <td>(THE) ONE of THEM,Inc.</td>\n",
       "      <td>http://oneofthem.jp</td>\n",
       "      <td>Apps|Games|Mobile</td>\n",
       "      <td>operating</td>\n",
       "      <td>NaN</td>\n",
       "      <td>NaN</td>\n",
       "      <td>NaN</td>\n",
       "      <td>NaN</td>\n",
       "      <td>NaN</td>\n",
       "      <td>/ORGANIZATION/-THE-ONE-OF-THEM-INC-</td>\n",
       "      <td>/funding-round/650b8f704416801069bb178a1418776b</td>\n",
       "      <td>venture</td>\n",
       "      <td>B</td>\n",
       "      <td>30-01-2014</td>\n",
       "      <td>3406878.0</td>\n",
       "      <td>Mobile</td>\n",
       "      <td>Type A</td>\n",
       "    </tr>\n",
       "    <tr>\n",
       "      <th>2</th>\n",
       "      <td>/ORGANIZATION/004-TECHNOLOGIES</td>\n",
       "      <td>004 Technologies</td>\n",
       "      <td>http://004gmbh.de/en/004-interact</td>\n",
       "      <td>Software</td>\n",
       "      <td>operating</td>\n",
       "      <td>USA</td>\n",
       "      <td>IL</td>\n",
       "      <td>Springfield, Illinois</td>\n",
       "      <td>Champaign</td>\n",
       "      <td>01-01-2010</td>\n",
       "      <td>/ORGANIZATION/004-TECHNOLOGIES</td>\n",
       "      <td>/funding-round/1278dd4e6a37fa4b7d7e06c21b3c1830</td>\n",
       "      <td>venture</td>\n",
       "      <td>NaN</td>\n",
       "      <td>24-07-2014</td>\n",
       "      <td>NaN</td>\n",
       "      <td>Software</td>\n",
       "      <td>Type C</td>\n",
       "    </tr>\n",
       "    <tr>\n",
       "      <th>3</th>\n",
       "      <td>/ORGANIZATION/0NDINE-BIOMEDICAL-INC</td>\n",
       "      <td>Ondine Biomedical Inc.</td>\n",
       "      <td>http://ondinebio.com</td>\n",
       "      <td>Biotechnology</td>\n",
       "      <td>operating</td>\n",
       "      <td>CAN</td>\n",
       "      <td>BC</td>\n",
       "      <td>Vancouver</td>\n",
       "      <td>Vancouver</td>\n",
       "      <td>01-01-1997</td>\n",
       "      <td>/ORGANIZATION/0NDINE-BIOMEDICAL-INC</td>\n",
       "      <td>/funding-round/2b9d3ac293d5cdccbecff5c8cb0f327d</td>\n",
       "      <td>seed</td>\n",
       "      <td>NaN</td>\n",
       "      <td>11-09-2009</td>\n",
       "      <td>43360.0</td>\n",
       "      <td>Biotechnology</td>\n",
       "      <td>Type A</td>\n",
       "    </tr>\n",
       "    <tr>\n",
       "      <th>4</th>\n",
       "      <td>/ORGANIZATION/0XDATA</td>\n",
       "      <td>H2O.ai</td>\n",
       "      <td>http://h2o.ai/</td>\n",
       "      <td>Analytics</td>\n",
       "      <td>operating</td>\n",
       "      <td>USA</td>\n",
       "      <td>CA</td>\n",
       "      <td>SF Bay Area</td>\n",
       "      <td>Mountain View</td>\n",
       "      <td>01-01-2011</td>\n",
       "      <td>/ORGANIZATION/0XDATA</td>\n",
       "      <td>/funding-round/383a9bd2c04f7038bb543ccef5ba3eae</td>\n",
       "      <td>seed</td>\n",
       "      <td>NaN</td>\n",
       "      <td>22-05-2013</td>\n",
       "      <td>3000000.0</td>\n",
       "      <td>Analytics</td>\n",
       "      <td>Type A</td>\n",
       "    </tr>\n",
       "  </tbody>\n",
       "</table>\n",
       "</div>"
      ],
      "text/plain": [
       "                             permalink                    name  \\\n",
       "0               /ORGANIZATION/-QOUNTER                :Qounter   \n",
       "1  /ORGANIZATION/-THE-ONE-OF-THEM-INC-  (THE) ONE of THEM,Inc.   \n",
       "2       /ORGANIZATION/004-TECHNOLOGIES        004 Technologies   \n",
       "3  /ORGANIZATION/0NDINE-BIOMEDICAL-INC  Ondine Biomedical Inc.   \n",
       "4                 /ORGANIZATION/0XDATA                  H2O.ai   \n",
       "\n",
       "                        homepage_url  \\\n",
       "0             http://www.qounter.com   \n",
       "1                http://oneofthem.jp   \n",
       "2  http://004gmbh.de/en/004-interact   \n",
       "3               http://ondinebio.com   \n",
       "4                     http://h2o.ai/   \n",
       "\n",
       "                                       category_list     status country_code  \\\n",
       "0  Application Platforms|Real Time|Social Network...  operating          USA   \n",
       "1                                  Apps|Games|Mobile  operating          NaN   \n",
       "2                                           Software  operating          USA   \n",
       "3                                      Biotechnology  operating          CAN   \n",
       "4                                          Analytics  operating          USA   \n",
       "\n",
       "  state_code                 region           city  founded_at  \\\n",
       "0         DE             DE - Other  Delaware City  04-09-2014   \n",
       "1        NaN                    NaN            NaN         NaN   \n",
       "2         IL  Springfield, Illinois      Champaign  01-01-2010   \n",
       "3         BC              Vancouver      Vancouver  01-01-1997   \n",
       "4         CA            SF Bay Area  Mountain View  01-01-2011   \n",
       "\n",
       "                     company_permalink  \\\n",
       "0               /ORGANIZATION/-QOUNTER   \n",
       "1  /ORGANIZATION/-THE-ONE-OF-THEM-INC-   \n",
       "2       /ORGANIZATION/004-TECHNOLOGIES   \n",
       "3  /ORGANIZATION/0NDINE-BIOMEDICAL-INC   \n",
       "4                 /ORGANIZATION/0XDATA   \n",
       "\n",
       "                           funding_round_permalink funding_round_type  \\\n",
       "0  /funding-round/22dacff496eb7acb2b901dec1dfe5633            venture   \n",
       "1  /funding-round/650b8f704416801069bb178a1418776b            venture   \n",
       "2  /funding-round/1278dd4e6a37fa4b7d7e06c21b3c1830            venture   \n",
       "3  /funding-round/2b9d3ac293d5cdccbecff5c8cb0f327d               seed   \n",
       "4  /funding-round/383a9bd2c04f7038bb543ccef5ba3eae               seed   \n",
       "\n",
       "  funding_round_code   funded_at  raised_amount_usd         main_category  \\\n",
       "0                  A  14-10-2014                NaN  Social Network Media   \n",
       "1                  B  30-01-2014          3406878.0                Mobile   \n",
       "2                NaN  24-07-2014                NaN              Software   \n",
       "3                NaN  11-09-2009            43360.0         Biotechnology   \n",
       "4                NaN  22-05-2013          3000000.0             Analytics   \n",
       "\n",
       "  raised_amount_type  \n",
       "0             Type C  \n",
       "1             Type A  \n",
       "2             Type C  \n",
       "3             Type A  \n",
       "4             Type A  "
      ]
     },
     "execution_count": 20,
     "metadata": {},
     "output_type": "execute_result"
    }
   ],
   "source": [
    "master_frame[[\"raised_amount_usd\"]].head()\n",
    "def raised_amt(r):\n",
    "    if r<=5000000:\n",
    "        return \"Type A\"\n",
    "    elif r<7000000:\n",
    "        return \"Type B\"\n",
    "    else:\n",
    "        return \"Type C\"\n",
    "master_frame[\"raised_amount_type\"]=master_frame[\"raised_amount_usd\"].apply(raised_amt)   \n",
    "master_frame.head()"
   ]
  },
  {
   "cell_type": "markdown",
   "id": "e111791a",
   "metadata": {},
   "source": [
    "**Inference**\n",
    "\n",
    "The above analysis helps us to find out the `top investors`. We have categorised the companies investing the maximum amount under `Type C`, implying thet invest the maximum amount."
   ]
  },
  {
   "cell_type": "code",
   "execution_count": 25,
   "id": "c22d3cf6",
   "metadata": {
    "scrolled": true
   },
   "outputs": [
    {
     "data": {
      "image/png": "[encoded data removed]",
      "text/plain": [
       "<Figure size 432x288 with 1 Axes>"
      ]
     },
     "metadata": {
      "needs_background": "light"
     },
     "output_type": "display_data"
    }
   ],
   "source": [
    "count_by_raised_amount_type = master_frame.groupby('raised_amount_type')['name'].count()\n",
    "\n",
    "count_by_raised_amount_type.plot(kind='bar', figsize=(6,4))\n",
    "plt.xlabel('Raised Amount Type')\n",
    "plt.ylabel('Number of Companies')\n",
    "plt.title('Count of Companies by Raised Amount Type')\n",
    "plt.show()"
   ]
  },
  {
   "cell_type": "markdown",
   "id": "1312365a",
   "metadata": {},
   "source": [
    "<a id='conclusion'></a>\n",
    "# CONCLUSION"
   ]
  },
  {
   "cell_type": "markdown",
   "id": "9395d59c",
   "metadata": {},
   "source": [
    "##### BEST INVESTMENT STRATEGY"
   ]
  },
  {
   "cell_type": "code",
   "execution_count": 78,
   "id": "9ca7650e",
   "metadata": {
    "scrolled": false
   },
   "outputs": [
    {
     "data": {
      "text/plain": [
       "Series([], Name: funding_round_type, dtype: int64)"
      ]
     },
     "execution_count": 78,
     "metadata": {},
     "output_type": "execute_result"
    }
   ],
   "source": [
    "#Identified the funding type including the maximum number of companies with raised_amount_type as “type C”\n",
    "master_frame[\"funding_round_type\"].where(master_frame[\"raised_amount_type\"]==\"type C\").value_counts()"
   ]
  },
  {
   "cell_type": "markdown",
   "id": "f8d5323b",
   "metadata": {},
   "source": [
    "**Inference**\n",
    "As we already know that `Type C` companies are the ones which invest the maximum, we now wanted to find the funding round type which is the most popular among the companies. So, we counted the number of companies in each funding round type.   <br>\n",
    "We can clearly see that the `25796` companies invest in `venture` funding round making it the most popular among companies. And companies also like to go for `seed investing`."
   ]
  },
  {
   "cell_type": "code",
   "execution_count": 27,
   "id": "6ed0de75",
   "metadata": {
    "scrolled": true
   },
   "outputs": [
    {
     "data": {
      "image/png": "[encoded data removed]",
      "text/plain": [
       "<Figure size 576x288 with 1 Axes>"
      ]
     },
     "metadata": {
      "needs_background": "light"
     },
     "output_type": "display_data"
    }
   ],
   "source": [
    "#Visualizing the above analysis\n",
    "count_by_funding_type = master_frame.groupby('funding_round_type')['name'].count()\n",
    "count_by_funding_type.plot(kind='bar',figsize=(8,4))\n",
    "plt.xlabel('Funding Round Type')\n",
    "plt.ylabel('Number of Companies')\n",
    "plt.title('Count of Companies by Funding Round Type')\n",
    "plt.show()"
   ]
  },
  {
   "cell_type": "markdown",
   "id": "dfec153a",
   "metadata": {},
   "source": [
    "**Remarks:** From the analysis, it was found that the venture fund type consisted of largest numbers of companies, that is, 25801 companies with the raised amount of more than 7 million dollars. Followed by the seed funding with 6999 companies. according to analysis, it can be concluded as the suitable funding type."
   ]
  },
  {
   "cell_type": "markdown",
   "id": "f6e63ae4",
   "metadata": {},
   "source": [
    "#####  BEST COUNTRIES"
   ]
  },
  {
   "cell_type": "markdown",
   "id": "3e8dd84f",
   "metadata": {},
   "source": [
    "**In order to find the best countries to invest in we look at the countries attracting maximum funds i.e. maximum 'raised_amount_usd' under the 'venture' funding round** "
   ]
  },
  {
   "cell_type": "code",
   "execution_count": 43,
   "id": "82612c51",
   "metadata": {},
   "outputs": [],
   "source": [
    "pd.options.display.float_format = '{:,.4f}'.format\n",
    "master_frame[\"raised_amount_usd\"].fillna(0,inplace=True)\n",
    "master_frame[\"raised_amount_usd\"] = master_frame[\"raised_amount_usd\"].astype(int)"
   ]
  },
  {
   "cell_type": "code",
   "execution_count": 28,
   "id": "946644cb",
   "metadata": {
    "scrolled": true
   },
   "outputs": [
    {
     "data": {
      "text/plain": [
       "country_code\n",
       "USA    2.245923e+11\n",
       "CHN    1.889986e+10\n",
       "GBR    1.072729e+10\n",
       "IND    7.516193e+09\n",
       "CAN    4.723709e+09\n",
       "ISR    3.451628e+09\n",
       "FRA    3.391207e+09\n",
       "DEU    3.111720e+09\n",
       "JPN    1.767605e+09\n",
       "Name: raised_amount_usd, dtype: float64"
      ]
     },
     "execution_count": 28,
     "metadata": {},
     "output_type": "execute_result"
    }
   ],
   "source": [
    "# Filter out the 'venture' funding round type\n",
    "df_venture = master_frame[master_frame.funding_round_type == 'venture']\n",
    "\n",
    "# Group the investments by country and calculate the total investment\n",
    "total_investment = df_venture.groupby('country_code')['raised_amount_usd'].sum()\n",
    "\n",
    "# Sort the countries by the total investment and get the top 9\n",
    "top_9_countries = total_investment.sort_values(ascending=False)[:9]\n",
    "top_9_countries"
   ]
  },
  {
   "cell_type": "markdown",
   "id": "bd51696e",
   "metadata": {},
   "source": [
    "##### Visualizing the above analysis"
   ]
  },
  {
   "cell_type": "code",
   "execution_count": 45,
   "id": "c51c36bc",
   "metadata": {},
   "outputs": [
    {
     "data": {
      "image/png": "[encoded data removed]",
      "text/plain": [
       "<Figure size 576x432 with 1 Axes>"
      ]
     },
     "metadata": {
      "needs_background": "light"
     },
     "output_type": "display_data"
    }
   ],
   "source": [
    "top_9_countries.plot(kind=\"bar\",figsize=(8,6))\n",
    "plt.ylabel(\"total investment\")\n",
    "plt.title(\"Top 9 countries in terms of highes `venture` fund type\" )\n",
    "plt.show()"
   ]
  },
  {
   "cell_type": "markdown",
   "id": "e78fcd89",
   "metadata": {},
   "source": [
    "**Observation** : We can see here that the countries which made the highest investment in 'venture' funding round are USA, CHN, GBR, IND, CAN, FRA, ISR, DEU, JPN with their respective investment amounts."
   ]
  },
  {
   "cell_type": "markdown",
   "id": "5c3bbee9",
   "metadata": {},
   "source": [
    "##### Recommendations for stakeholders\n",
    "After this analysis we can now recommed our stakeholders \n",
    "- the best investment strategy\n",
    "- the best countries to invest\n",
    "\n",
    "From the analysis, it was found that the `venture` funding round type consisted of `largest numbers of companies`, that is, `25801` companies with the raised amount of more than 7 million dollars. Followed by the seed funding with 6999 companies. According to analysis, it can be concluded as the suitable funding type.        <br>\n",
    "Further upon analysis it was found that the `top 9 countries` for investment in the venture fund type Are `USA, China, Great Britain, India, Canada, France, Israel, Germany` and `Japan`."
   ]
  },
  {
   "cell_type": "markdown",
   "id": "36923791",
   "metadata": {},
   "source": [
    "****"
   ]
  }
 ],
 "metadata": {
  "kernelspec": {
   "display_name": "Python 3 (ipykernel)",
   "language": "python",
   "name": "python3"
  },
  "language_info": {
   "codemirror_mode": {
    "name": "ipython",
    "version": 3
   },
   "file_extension": ".py",
   "mimetype": "text/x-python",
   "name": "python",
   "nbconvert_exporter": "python",
   "pygments_lexer": "ipython3",
   "version": "3.9.12"
  }
 },
 "nbformat": 4,
 "nbformat_minor": 5
}
